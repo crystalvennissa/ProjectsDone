{
 "cells": [
  {
   "cell_type": "markdown",
   "metadata": {},
   "source": [
    "# Project to count number of platforms when a train arrives at a station.\n"
   ]
  },
  {
   "cell_type": "markdown",
   "metadata": {},
   "source": [
    "### INPUT\n",
    "        "
   ]
  },
  {
   "cell_type": "markdown",
   "metadata": {},
   "source": [
    "Number of trains ariving: 2"
   ]
  },
  {
   "cell_type": "markdown",
   "metadata": {},
   "source": [
    "Train ariival and wating time list:"
   ]
  },
  {
   "cell_type": "markdown",
   "metadata": {},
   "source": [
    "2 3"
   ]
  },
  {
   "cell_type": "markdown",
   "metadata": {},
   "source": [
    "4 5"
   ]
  },
  {
   "cell_type": "markdown",
   "metadata": {},
   "source": [
    "### OUTPUT"
   ]
  },
  {
   "cell_type": "markdown",
   "metadata": {},
   "source": [
    "Number of platforms needed is:2"
   ]
  },
  {
   "cell_type": "code",
   "execution_count": 8,
   "metadata": {},
   "outputs": [],
   "source": [
    "def platformcount(dic):\n",
    "    platfom=0\n",
    "    leave=[]\n",
    "    for x in dic:\n",
    "        leave.append(dic.get(x))\n",
    "    m=len(leave)\n",
    "    for x in dic:\n",
    "        p=0\n",
    "        for i in range(0,len(leave)):\n",
    "            if x<=leave[i]:\n",
    "                p=p+1          \n",
    "        if(p==m):\n",
    "            platfom+=1\n",
    "        \n",
    "    return(platfom)\n",
    "#MAIN\n",
    "def mainfn():\n",
    "    n=int(input(\"Enter number of trains arriving at the station :\"))\n",
    "    trainlist=[]\n",
    "    arrival={} #Dictionary to store arrival and leave\n",
    "    splitrange=[]\n",
    "    print(\"Enter the arrival and waiting time of trains: \")\n",
    "    for i in range(0,n):\n",
    "        trainlist.append(input())\n",
    "        x=trainlist[i].split()\n",
    "        y=int(x[0])+int(x[1]) \n",
    "        waitlist={int(x[0]):y}\n",
    "        arrival.update(waitlist)\n",
    "    sorta={}\n",
    "    for i in sorted (arrival) : \n",
    "        waitlist1={int(i):arrival[i]}\n",
    "        sorta.update(waitlist1)\n",
    "    x=platformcount(sorta)\n",
    "    print(\"Number of platforms needed : \",x)\n",
    "    return"
   ]
  },
  {
   "cell_type": "code",
   "execution_count": 9,
   "metadata": {},
   "outputs": [
    {
     "name": "stdout",
     "output_type": "stream",
     "text": [
      "Enter number of trains arriving at the station :2\n",
      "Enter the arrival and waiting time of trains: \n",
      "2 4\n",
      "6 2\n",
      "Number of platforms needed :  2\n"
     ]
    }
   ],
   "source": [
    "mainfn()"
   ]
  },
  {
   "cell_type": "code",
   "execution_count": 10,
   "metadata": {},
   "outputs": [
    {
     "name": "stdout",
     "output_type": "stream",
     "text": [
      "Enter number of trains arriving at the station :3\n",
      "Enter the arrival and waiting time of trains: \n",
      "10 2\n",
      "5 10\n",
      "13 5\n",
      "Number of platforms needed :  2\n"
     ]
    }
   ],
   "source": [
    "mainfn()"
   ]
  }
 ],
 "metadata": {
  "kernelspec": {
   "display_name": "Python 3",
   "language": "python",
   "name": "python3"
  },
  "language_info": {
   "codemirror_mode": {
    "name": "ipython",
    "version": 3
   },
   "file_extension": ".py",
   "mimetype": "text/x-python",
   "name": "python",
   "nbconvert_exporter": "python",
   "pygments_lexer": "ipython3",
   "version": "3.7.6"
  }
 },
 "nbformat": 4,
 "nbformat_minor": 4
}
