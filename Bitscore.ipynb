{
 "cells": [
  {
   "cell_type": "markdown",
   "metadata": {},
   "source": [
    "# Code to calculate bitscore of given sent of 3 digit numbers and make pairs"
   ]
  },
  {
   "cell_type": "markdown",
   "metadata": {},
   "source": [
    "Bit score=(Largest integer in number)11+(Smallest integer in number)7"
   ]
  },
  {
   "cell_type": "markdown",
   "metadata": {},
   "source": [
    "if bit score exceeds 100 den devide it by 10 to get final bitscore"
   ]
  },
  {
   "cell_type": "markdown",
   "metadata": {},
   "source": [
    "Pairs are made st the tens place of a bit score is same. One number can be present in atost 3 pairs"
   ]
  },
  {
   "cell_type": "markdown",
   "metadata": {},
   "source": [
    "### INPUT"
   ]
  },
  {
   "cell_type": "markdown",
   "metadata": {},
   "source": [
    "Number of 3 digits number to be entered: n"
   ]
  },
  {
   "cell_type": "markdown",
   "metadata": {},
   "source": [
    "Enter n 3 digit numbers"
   ]
  },
  {
   "cell_type": "markdown",
   "metadata": {},
   "source": [
    "### OUTPUT"
   ]
  },
  {
   "cell_type": "markdown",
   "metadata": {},
   "source": [
    "Number of pairs"
   ]
  },
  {
   "cell_type": "markdown",
   "metadata": {},
   "source": [
    "## ---------------------------------------"
   ]
  },
  {
   "cell_type": "code",
   "execution_count": 3,
   "metadata": {},
   "outputs": [],
   "source": [
    "import collections\n",
    "def largest(a,b,c):\n",
    "    if(a>b) and(a>c):    \n",
    "        l=a\n",
    "    elif(b>c):\n",
    "        l=b\n",
    "    else:\n",
    "        l=c\n",
    "    return l\n",
    "        \n",
    "def smallest(a,b,c):\n",
    "    if(a<b) and(a<c):    \n",
    "        s=a\n",
    "    elif(b<c):\n",
    "        s=b\n",
    "    else:\n",
    "        s=c\n",
    "    return s\n",
    "    \n",
    "\n",
    "def bitscore(n):\n",
    "    score=0\n",
    "    a=b=c=0  # Extracting individual numbers\n",
    "    for i in range(0,3):\n",
    "        rem=n%10\n",
    "        if(i==0):\n",
    "            a=rem\n",
    "        elif(i==1):\n",
    "            b=rem\n",
    "        else:\n",
    "            c=rem\n",
    "        n=n//10\n",
    "    large=largest(a,b,c)\n",
    "    small=smallest(a,b,c)\n",
    "    #print(large,small)\n",
    "    score=large*11+small*7 \n",
    "    if(score>=100):\n",
    "        temp=score\n",
    "        score=score//100\n",
    "        score=temp-(score*100)\n",
    "    return score \n",
    "\n",
    "\n",
    "def counting(given):\n",
    "    count=collections.Counter(given)# a dictionary is formed\n",
    "    #print(count)\n",
    "    #temp=list(count.keys())\n",
    "    temp=list(count.values())\n",
    "    #print(temp)\n",
    "    possible=0\n",
    "    for i in range(0,len(temp)):\n",
    "        if(temp[i]<=3):\n",
    "            possible=possible+temp[i]-1\n",
    "        else:\n",
    "            possible=possible+2\n",
    "    return possible\n",
    "    \n",
    "def pair(arr):\n",
    "    n=len(arr)\n",
    "    pairs=0\n",
    "    evenlist=[]\n",
    "    oddlist=[]\n",
    "    for i in range(0,n,2):\n",
    "        evenlist.append(arr[i]//10)\n",
    "        \n",
    "    evenp=counting(evenlist)\n",
    "             \n",
    "    for i in range(1,n,2):\n",
    "        oddlist.append(arr[i]//10)\n",
    "    oddp=counting(oddlist)\n",
    "    pairs=evenp+oddp        \n",
    "    return pairs  \n",
    "\n",
    "\n",
    "#MAIN\n",
    "def mainfn():\n",
    "    n=int(input(\"Enter number of intergers to be entered : \"))#n<500\n",
    "    inp=[]\n",
    "    scorelist=[]\n",
    "    print(\"Enyter \",n,\" integers\")\n",
    "    for i in range(0,n):\n",
    "        inp.append(int(input()))\n",
    "        scorelist.append(bitscore(inp[i]))\n",
    "    \n",
    "    #print(scorelist)\n",
    "    pairspossible=pair(scorelist)\n",
    "    print(\"Number of pairs possible : \",pairspossible)\n",
    "    return\n",
    "\n",
    "#234 567 321 345 123 110 767 111"
   ]
  },
  {
   "cell_type": "code",
   "execution_count": 4,
   "metadata": {},
   "outputs": [
    {
     "name": "stdout",
     "output_type": "stream",
     "text": [
      "Enter number of intergers to be entered : 8\n",
      "Enyter  8  integers\n",
      "234\n",
      "567\n",
      "321\n",
      "123\n",
      "110\n",
      "676\n",
      "111\n",
      "354\n",
      "Number of pairs possible :  2\n"
     ]
    }
   ],
   "source": [
    "mainfn()"
   ]
  }
 ],
 "metadata": {
  "kernelspec": {
   "display_name": "Python 3",
   "language": "python",
   "name": "python3"
  },
  "language_info": {
   "codemirror_mode": {
    "name": "ipython",
    "version": 3
   },
   "file_extension": ".py",
   "mimetype": "text/x-python",
   "name": "python",
   "nbconvert_exporter": "python",
   "pygments_lexer": "ipython3",
   "version": "3.7.6"
  }
 },
 "nbformat": 4,
 "nbformat_minor": 4
}
